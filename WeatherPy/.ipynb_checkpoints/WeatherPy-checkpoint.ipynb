{
 "cells": [
  {
   "cell_type": "markdown",
   "metadata": {},
   "source": [
    "# WeatherPy\n",
    "----\n",
    "\n",
    "#### Note\n",
    "* Instructions have been included for each segment. You do not have to follow them exactly, but they are included to help you think through the steps."
   ]
  },
  {
   "cell_type": "code",
   "execution_count": 159,
   "metadata": {
    "scrolled": true
   },
   "outputs": [],
   "source": [
    "# Dependencies and Setup\n",
    "import matplotlib.pyplot as plt\n",
    "import pandas as pd\n",
    "import numpy as np\n",
    "import requests\n",
    "import time\n",
    "from scipy.stats import linregress\n",
    "from pprint import pprint\n",
    "# Import API key\n",
    "from config import weather_api_key\n",
    "\n",
    "# Incorporated citipy to determine city based on latitude and longitude\n",
    "from citipy import citipy\n",
    "\n",
    "# Output File (CSV)\n",
    "output_data_file = \"output_data/cities.csv\"\n",
    "\n",
    "# Range of latitudes and longitudes\n",
    "lat_range = (-90, 90)\n",
    "lng_range = (-180, 180)"
   ]
  },
  {
   "cell_type": "markdown",
   "metadata": {},
   "source": [
    "## Generate Cities List"
   ]
  },
  {
   "cell_type": "code",
   "execution_count": 160,
   "metadata": {},
   "outputs": [
    {
     "data": {
      "text/plain": [
       "611"
      ]
     },
     "execution_count": 160,
     "metadata": {},
     "output_type": "execute_result"
    }
   ],
   "source": [
    "# List for holding lat_lngs and cities\n",
    "lat_lngs = []\n",
    "cities = []\n",
    "\n",
    "# Create a set of random lat and lng combinations\n",
    "lats = np.random.uniform(lat_range[0], lat_range[1], size=1500)\n",
    "lngs = np.random.uniform(lng_range[0], lng_range[1], size=1500)\n",
    "lat_lngs = zip(lats, lngs)\n",
    "\n",
    "# Identify nearest city for each lat, lng combination\n",
    "for lat_lng in lat_lngs:\n",
    "    city = citipy.nearest_city(lat_lng[0], lat_lng[1]).city_name\n",
    "    \n",
    "    # If the city is unique, then add it to a our cities list\n",
    "    if city not in cities:\n",
    "        cities.append(city)\n",
    "\n",
    "# Print the city count to confirm sufficient count\n",
    "len(cities)"
   ]
  },
  {
   "cell_type": "code",
   "execution_count": 161,
   "metadata": {},
   "outputs": [],
   "source": [
    "#Create empty lists for dataframe\n",
    "lat=[]\n",
    "lng=[]\n",
    "max_temp=[]\n",
    "humidity=[]\n",
    "cloudiness=[]\n",
    "windspeed=[]\n",
    "country=[]\n",
    "date=[]\n"
   ]
  },
  {
   "cell_type": "markdown",
   "metadata": {},
   "source": [
    "### Perform API Calls\n",
    "* Perform a weather check on each city using a series of successive API calls.\n",
    "* Include a print log of each city as it'sbeing processed (with the city number and city name).\n"
   ]
  },
  {
   "cell_type": "code",
   "execution_count": 162,
   "metadata": {
    "scrolled": true
   },
   "outputs": [
    {
     "name": "stdout",
     "output_type": "stream",
     "text": [
      "Beginning Data Retrieval\n",
      "Processing Record 1 | port alfred\n",
      "Processing Record 2 | kruisfontein\n",
      "Processing Record 3 | new norfolk\n",
      "Processing Record 4 | rikitea\n",
      "Processing Record 5 | waipawa\n",
      "Processing Record 6 | dubti\n",
      "Processing Record 7 | albany\n",
      "Processing Record 8 | tiksi\n",
      "Processing Record 9 | cape town\n",
      "Processing Record 10 | vaini\n",
      "Processing Record 11 | belushya guba\n",
      "City not found!\n",
      "Processing Record 12 | namibe\n",
      "Processing Record 13 | padang\n",
      "Processing Record 14 | yellowknife\n",
      "Processing Record 15 | hirara\n",
      "Processing Record 16 | bengkulu\n",
      "Processing Record 17 | halalo\n",
      "City not found!\n",
      "Processing Record 18 | dikson\n",
      "Processing Record 19 | bethel\n",
      "Processing Record 20 | barrow\n",
      "Processing Record 21 | ushuaia\n",
      "Processing Record 22 | chokurdakh\n",
      "Processing Record 23 | sayat\n",
      "Processing Record 24 | nizhneyansk\n",
      "City not found!\n",
      "Processing Record 25 | valparaiso\n",
      "Processing Record 26 | jaciara\n",
      "Processing Record 27 | college\n",
      "Processing Record 28 | komsomolskiy\n",
      "Processing Record 29 | cabedelo\n",
      "Processing Record 30 | barreirinhas\n",
      "Processing Record 31 | san policarpo\n",
      "Processing Record 32 | kaitangata\n",
      "Processing Record 33 | carballo\n",
      "Processing Record 34 | bambous virieux\n",
      "Processing Record 35 | okhotsk\n",
      "Processing Record 36 | kavieng\n",
      "Processing Record 37 | florianopolis\n",
      "Processing Record 38 | chara\n",
      "Processing Record 39 | barentsburg\n",
      "City not found!\n",
      "Processing Record 40 | sagar\n",
      "Processing Record 41 | chulman\n",
      "Processing Record 42 | mar del plata\n",
      "Processing Record 43 | busselton\n",
      "Processing Record 44 | hermanus\n",
      "Processing Record 45 | tobol\n",
      "Processing Record 46 | husavik\n",
      "Processing Record 47 | malanje\n",
      "Processing Record 48 | baijiantan\n",
      "Processing Record 49 | kodiak\n",
      "Processing Record 50 | jamestown\n",
      "Processing Record 51 | andenes\n",
      "Processing Record 52 | minab\n",
      "Processing Record 53 | hasaki\n",
      "Processing Record 54 | meulaboh\n",
      "Processing Record 55 | mataura\n",
      "Processing Record 56 | qaanaaq\n",
      "Processing Record 57 | louisbourg\n",
      "City not found!\n",
      "Processing Record 58 | marcona\n",
      "City not found!\n",
      "Processing Record 59 | tuktoyaktuk\n",
      "Processing Record 60 | port elizabeth\n",
      "Processing Record 61 | mount gambier\n",
      "Processing Record 62 | matara\n",
      "Processing Record 63 | pangnirtung\n",
      "Processing Record 64 | taolanaro\n",
      "City not found!\n",
      "Processing Record 65 | srednekolymsk\n",
      "Processing Record 66 | tasiilaq\n",
      "Processing Record 67 | kosonsoy\n",
      "Processing Record 68 | tazovskiy\n",
      "Processing Record 69 | atambua\n",
      "Processing Record 70 | clyde river\n",
      "Processing Record 71 | arraial do cabo\n",
      "Processing Record 72 | havelock\n",
      "Processing Record 73 | sioux lookout\n",
      "Processing Record 74 | lubbock\n",
      "Processing Record 75 | butaritari\n",
      "Processing Record 76 | saint-francois\n",
      "Processing Record 77 | nguiu\n",
      "City not found!\n",
      "Processing Record 78 | karratha\n",
      "Processing Record 79 | paithan\n",
      "Processing Record 80 | tigil\n",
      "Processing Record 81 | saskylakh\n",
      "Processing Record 82 | bredasdorp\n",
      "Processing Record 83 | bluff\n",
      "Processing Record 84 | sorland\n",
      "Processing Record 85 | aklavik\n",
      "Processing Record 86 | birao\n",
      "Processing Record 87 | torbay\n",
      "Processing Record 88 | marsa matruh\n",
      "Processing Record 89 | atuona\n",
      "Processing Record 90 | saldanha\n",
      "Processing Record 91 | yeppoon\n",
      "Processing Record 92 | kabare\n",
      "Processing Record 93 | turochak\n",
      "Processing Record 94 | souillac\n",
      "Processing Record 95 | east london\n",
      "Processing Record 96 | jumla\n",
      "Processing Record 97 | touros\n",
      "Processing Record 98 | khatanga\n",
      "Processing Record 99 | airai\n",
      "Processing Record 100 | paamiut\n",
      "Processing Record 101 | luderitz\n",
      "Processing Record 102 | cherskiy\n",
      "Processing Record 103 | naze\n",
      "Processing Record 104 | mount darwin\n",
      "Processing Record 105 | yulara\n",
      "Processing Record 106 | kralendijk\n",
      "Processing Record 107 | norman wells\n",
      "Processing Record 108 | saint george\n",
      "Processing Record 109 | cabo san lucas\n",
      "Processing Record 110 | ambilobe\n",
      "Processing Record 111 | mecca\n",
      "Processing Record 112 | bilibino\n",
      "Processing Record 113 | makokou\n",
      "Processing Record 114 | atar\n",
      "Processing Record 115 | chuy\n",
      "Processing Record 116 | nemuro\n",
      "Processing Record 117 | scottsbluff\n",
      "Processing Record 118 | panaba\n",
      "Processing Record 119 | illoqqortoormiut\n",
      "City not found!\n",
      "Processing Record 120 | hobart\n",
      "Processing Record 121 | lorengau\n",
      "Processing Record 122 | mahebourg\n",
      "Processing Record 123 | jalu\n",
      "Processing Record 124 | huron\n",
      "Processing Record 125 | dubbo\n",
      "Processing Record 126 | sitka\n",
      "Processing Record 127 | north bay\n",
      "Processing Record 128 | sataua\n",
      "City not found!\n",
      "Processing Record 129 | gallup\n",
      "Processing Record 130 | antequera\n",
      "Processing Record 131 | berdigestyakh\n",
      "Processing Record 132 | attawapiskat\n",
      "City not found!\n",
      "Processing Record 133 | hofn\n",
      "Processing Record 134 | cidreira\n",
      "Processing Record 135 | santiago de cao\n",
      "Processing Record 136 | scarborough\n",
      "Processing Record 137 | bambui\n",
      "Processing Record 138 | topeka\n",
      "Processing Record 139 | ostrovnoy\n",
      "Processing Record 140 | rocha\n",
      "Processing Record 141 | moussoro\n",
      "Processing Record 142 | avarua\n",
      "Processing Record 143 | kapaa\n",
      "Processing Record 144 | guiratinga\n",
      "Processing Record 145 | coihaique\n",
      "Processing Record 146 | urumqi\n",
      "Processing Record 147 | vanimo\n",
      "Processing Record 148 | daru\n",
      "Processing Record 149 | provideniya\n",
      "Processing Record 150 | kameyama\n",
      "Processing Record 151 | sao filipe\n",
      "Processing Record 152 | tabiauea\n",
      "City not found!\n",
      "Processing Record 153 | mulhouse\n",
      "Processing Record 154 | impfondo\n",
      "Processing Record 155 | amderma\n",
      "City not found!\n",
      "Processing Record 156 | labuhan\n",
      "Processing Record 157 | punta arenas\n",
      "Processing Record 158 | tautira\n",
      "Processing Record 159 | upernavik\n",
      "Processing Record 160 | konya\n",
      "Processing Record 161 | angoche\n",
      "Processing Record 162 | penzance\n",
      "Processing Record 163 | kurchum\n",
      "Processing Record 164 | hithadhoo\n",
      "Processing Record 165 | grindavik\n",
      "Processing Record 166 | kamienna gora\n",
      "Processing Record 167 | richards bay\n",
      "Processing Record 168 | omboue\n",
      "Processing Record 169 | paita\n",
      "Processing Record 170 | burkhala\n",
      "City not found!\n",
      "Processing Record 171 | puerto ayora\n",
      "Processing Record 172 | thompson\n",
      "Processing Record 173 | adrar\n",
      "Processing Record 174 | port hardy\n",
      "Processing Record 175 | aitape\n",
      "Processing Record 176 | grand river south east\n",
      "City not found!\n",
      "Processing Record 177 | lebu\n",
      "Processing Record 178 | sangar\n",
      "Processing Record 179 | linapacan\n",
      "City not found!\n",
      "Processing Record 180 | bontang\n",
      "Processing Record 181 | dedza\n",
      "Processing Record 182 | santo antonio do ica\n",
      "Processing Record 183 | kenitra\n",
      "Processing Record 184 | roseburg\n",
      "Processing Record 185 | port macquarie\n",
      "Processing Record 186 | kharp\n",
      "Processing Record 187 | bonfim\n",
      "Processing Record 188 | asau\n",
      "Processing Record 189 | kholodnyy\n",
      "Processing Record 190 | dicabisagan\n",
      "Processing Record 191 | smolenka\n",
      "Processing Record 192 | kahului\n",
      "Processing Record 193 | novooleksiyivka\n",
      "Processing Record 194 | alofi\n",
      "Processing Record 195 | amazar\n",
      "Processing Record 196 | tuatapere\n",
      "Processing Record 197 | kologriv\n",
      "Processing Record 198 | lagoa\n",
      "Processing Record 199 | lata\n",
      "Processing Record 200 | san buenaventura\n",
      "Processing Record 201 | roma\n",
      "Processing Record 202 | arica\n",
      "Processing Record 203 | andevoranto\n",
      "City not found!\n",
      "Processing Record 204 | saint-philippe\n",
      "Processing Record 205 | ilulissat\n",
      "Processing Record 206 | launceston\n",
      "Processing Record 207 | los llanos de aridane\n",
      "Processing Record 208 | salinas\n",
      "Processing Record 209 | mys shmidta\n",
      "City not found!\n",
      "Processing Record 210 | manggar\n",
      "Processing Record 211 | pirganj\n",
      "Processing Record 212 | vila franca do campo\n",
      "Processing Record 213 | ribeira grande\n",
      "Processing Record 214 | sorong\n",
      "Processing Record 215 | ningan\n",
      "City not found!\n",
      "Processing Record 216 | sikasso\n",
      "Processing Record 217 | laguna\n",
      "Processing Record 218 | kashi\n",
      "Processing Record 219 | shieli\n",
      "Processing Record 220 | zyryanka\n",
      "Processing Record 221 | haines junction\n",
      "Processing Record 222 | vitim\n",
      "Processing Record 223 | georgetown\n",
      "Processing Record 224 | siniscola\n",
      "Processing Record 225 | badacsonytomaj\n",
      "Processing Record 226 | nikolskoye\n",
      "Processing Record 227 | geraldton\n",
      "Processing Record 228 | margate\n",
      "Processing Record 229 | verkhnevilyuysk\n",
      "Processing Record 230 | umea\n",
      "Processing Record 231 | dudinka\n",
      "Processing Record 232 | rolim de moura\n",
      "City not found!\n",
      "Processing Record 233 | boa vista\n",
      "Processing Record 234 | duekoue\n",
      "Processing Record 235 | butembo\n",
      "Processing Record 236 | burica\n",
      "City not found!\n",
      "Processing Record 237 | taysan\n",
      "Processing Record 238 | guerrero negro\n",
      "Processing Record 239 | ancud\n"
     ]
    },
    {
     "name": "stdout",
     "output_type": "stream",
     "text": [
      "Processing Record 240 | bathsheba\n",
      "Processing Record 241 | moranbah\n",
      "Processing Record 242 | asyut\n",
      "Processing Record 243 | san patricio\n",
      "Processing Record 244 | aldama\n",
      "Processing Record 245 | castro\n",
      "Processing Record 246 | tigwi\n",
      "City not found!\n",
      "Processing Record 247 | kazalinsk\n",
      "City not found!\n",
      "Processing Record 248 | glendive\n",
      "Processing Record 249 | arlit\n",
      "Processing Record 250 | alice springs\n",
      "Processing Record 251 | marawi\n",
      "Processing Record 252 | ixtapa\n",
      "Processing Record 253 | belaya gora\n",
      "Processing Record 254 | westport\n",
      "Processing Record 255 | vicuna\n",
      "Processing Record 256 | hamilton\n",
      "Processing Record 257 | tura\n",
      "Processing Record 258 | vardo\n",
      "Processing Record 259 | bambanglipuro\n",
      "Processing Record 260 | albury\n",
      "Processing Record 261 | burgeo\n",
      "Processing Record 262 | hildesheim\n",
      "Processing Record 263 | faanui\n",
      "Processing Record 264 | deputatskiy\n",
      "Processing Record 265 | calbuco\n",
      "Processing Record 266 | naftah\n",
      "City not found!\n",
      "Processing Record 267 | yumen\n",
      "Processing Record 268 | kuandian\n",
      "Processing Record 269 | kariba\n",
      "Processing Record 270 | salta\n",
      "Processing Record 271 | carnarvon\n",
      "Processing Record 272 | porbandar\n",
      "Processing Record 273 | saleaula\n",
      "City not found!\n",
      "Processing Record 274 | rio blanco\n",
      "Processing Record 275 | santa fe\n",
      "Processing Record 276 | fortuna\n",
      "Processing Record 277 | shimoda\n",
      "Processing Record 278 | hilo\n",
      "Processing Record 279 | batang berjuntai\n",
      "Processing Record 280 | caravelas\n",
      "Processing Record 281 | ukiah\n",
      "Processing Record 282 | shinpokh\n",
      "Processing Record 283 | fort nelson\n",
      "Processing Record 284 | linxia\n",
      "Processing Record 285 | necochea\n",
      "Processing Record 286 | mocuba\n",
      "Processing Record 287 | tecoanapa\n",
      "Processing Record 288 | klyuchi\n",
      "Processing Record 289 | artyk\n",
      "City not found!\n",
      "Processing Record 290 | camacari\n",
      "Processing Record 291 | omealca\n",
      "Processing Record 292 | puerto escondido\n",
      "Processing Record 293 | chipinge\n",
      "Processing Record 294 | baruun-urt\n",
      "Processing Record 295 | port-gentil\n",
      "Processing Record 296 | vila velha\n",
      "Processing Record 297 | barra do garcas\n",
      "Processing Record 298 | baykit\n",
      "Processing Record 299 | auki\n",
      "Processing Record 300 | petropavlovsk-kamchatskiy\n",
      "Processing Record 301 | alexandria\n",
      "Processing Record 302 | palembang\n",
      "Processing Record 303 | ampanihy\n",
      "Processing Record 304 | tilichiki\n",
      "Processing Record 305 | byron bay\n",
      "Processing Record 306 | ayagoz\n",
      "Processing Record 307 | toliary\n",
      "City not found!\n",
      "Processing Record 308 | iqaluit\n",
      "Processing Record 309 | soyo\n",
      "Processing Record 310 | jambi\n",
      "Processing Record 311 | malartic\n",
      "Processing Record 312 | ippy\n",
      "Processing Record 313 | ormara\n",
      "Processing Record 314 | biak\n",
      "Processing Record 315 | kahna nau\n",
      "Processing Record 316 | saint-pierre\n",
      "Processing Record 317 | mount pleasant\n",
      "Processing Record 318 | southbridge\n",
      "Processing Record 319 | poum\n",
      "Processing Record 320 | paulo ramos\n",
      "Processing Record 321 | natal\n",
      "Processing Record 322 | karaul\n",
      "City not found!\n",
      "Processing Record 323 | hunza\n",
      "City not found!\n",
      "Processing Record 324 | biloela\n",
      "Processing Record 325 | buraydah\n",
      "Processing Record 326 | sambava\n",
      "Processing Record 327 | zemio\n",
      "Processing Record 328 | el balyana\n",
      "City not found!\n",
      "Processing Record 329 | faranah\n",
      "Processing Record 330 | olafsvik\n",
      "Processing Record 331 | praya\n",
      "Processing Record 332 | kloulklubed\n",
      "Processing Record 333 | tari\n",
      "Processing Record 334 | christchurch\n",
      "Processing Record 335 | seoul\n",
      "Processing Record 336 | lensk\n",
      "Processing Record 337 | segamat\n",
      "Processing Record 338 | longyearbyen\n",
      "Processing Record 339 | faya\n",
      "Processing Record 340 | neryungri\n",
      "Processing Record 341 | sinjai\n",
      "Processing Record 342 | kiomboi\n",
      "Processing Record 343 | jacareacanga\n",
      "Processing Record 344 | yamada\n",
      "Processing Record 345 | sabang\n",
      "Processing Record 346 | akyab\n",
      "Processing Record 347 | lompoc\n",
      "Processing Record 348 | saint-martin-de-crau\n",
      "Processing Record 349 | qasigiannguit\n",
      "Processing Record 350 | havre-saint-pierre\n",
      "Processing Record 351 | roald\n",
      "Processing Record 352 | severo-kurilsk\n",
      "Processing Record 353 | general roca\n",
      "Processing Record 354 | lincoln\n",
      "Processing Record 355 | mama\n",
      "Processing Record 356 | proletarsk\n",
      "Processing Record 357 | katsuura\n",
      "Processing Record 358 | kyshtovka\n",
      "Processing Record 359 | la asuncion\n",
      "Processing Record 360 | kampong cham\n",
      "Processing Record 361 | te anau\n",
      "Processing Record 362 | bondoukou\n",
      "Processing Record 363 | assiniboia\n",
      "Processing Record 364 | vilcun\n",
      "Processing Record 365 | puerto del rosario\n",
      "Processing Record 366 | itanhem\n",
      "Processing Record 367 | kaseda\n",
      "Processing Record 368 | mabaruma\n",
      "Processing Record 369 | lake city\n",
      "Processing Record 370 | leh\n",
      "Processing Record 371 | pevek\n",
      "Processing Record 372 | banamba\n",
      "Processing Record 373 | shelburne\n",
      "Processing Record 374 | erdemli\n",
      "Processing Record 375 | beringovskiy\n",
      "Processing Record 376 | nieuw nickerie\n",
      "Processing Record 377 | bonavista\n",
      "Processing Record 378 | victoria\n",
      "Processing Record 379 | rosetta\n",
      "Processing Record 380 | ozinki\n",
      "Processing Record 381 | dalhousie\n",
      "Processing Record 382 | ponta delgada\n",
      "Processing Record 383 | klaksvik\n",
      "Processing Record 384 | luanda\n",
      "Processing Record 385 | lichuan\n",
      "Processing Record 386 | kirakira\n",
      "Processing Record 387 | grand gaube\n",
      "Processing Record 388 | xining\n",
      "Processing Record 389 | matagami\n",
      "Processing Record 390 | pacific grove\n",
      "Processing Record 391 | berlevag\n",
      "Processing Record 392 | newport\n",
      "Processing Record 393 | kaniama\n",
      "Processing Record 394 | abu dhabi\n",
      "Processing Record 395 | chadiza\n",
      "Processing Record 396 | itoman\n",
      "Processing Record 397 | trinidad\n",
      "Processing Record 398 | carutapera\n",
      "Processing Record 399 | lavrentiya\n",
      "Processing Record 400 | kushmurun\n",
      "Processing Record 401 | limbang\n",
      "Processing Record 402 | isangel\n",
      "Processing Record 403 | fenelon falls\n",
      "Processing Record 404 | esmeraldas\n",
      "Processing Record 405 | vestmannaeyjar\n",
      "Processing Record 406 | salalah\n",
      "Processing Record 407 | requena\n",
      "Processing Record 408 | mirnyy\n",
      "Processing Record 409 | turbat\n",
      "Processing Record 410 | grand centre\n",
      "City not found!\n",
      "Processing Record 411 | shchigry\n",
      "Processing Record 412 | tidore\n",
      "City not found!\n",
      "Processing Record 413 | leningradskiy\n",
      "Processing Record 414 | beaverlodge\n",
      "Processing Record 415 | santa cruz del sur\n",
      "Processing Record 416 | ust-nera\n",
      "Processing Record 417 | el alto\n",
      "Processing Record 418 | mana\n",
      "Processing Record 419 | kilindoni\n",
      "Processing Record 420 | broken hill\n",
      "Processing Record 421 | prince rupert\n",
      "Processing Record 422 | aleksandrov gay\n",
      "Processing Record 423 | magadan\n",
      "Processing Record 424 | el campo\n",
      "Processing Record 425 | ahipara\n",
      "Processing Record 426 | manokwari\n",
      "Processing Record 427 | honiara\n",
      "Processing Record 428 | hoquiam\n",
      "Processing Record 429 | shchuchye\n",
      "City not found!\n",
      "Processing Record 430 | maniitsoq\n",
      "Processing Record 431 | labutta\n",
      "City not found!\n",
      "Processing Record 432 | nouadhibou\n",
      "Processing Record 433 | igrim\n",
      "Processing Record 434 | huarmey\n",
      "Processing Record 435 | riyadh\n",
      "Processing Record 436 | palmer\n",
      "Processing Record 437 | sao gabriel da cachoeira\n",
      "Processing Record 438 | odesskoye\n",
      "Processing Record 439 | khandyga\n",
      "Processing Record 440 | xai-xai\n",
      "Processing Record 441 | kimparana\n",
      "Processing Record 442 | aguie\n",
      "Processing Record 443 | turayf\n",
      "Processing Record 444 | bolungarvik\n",
      "City not found!\n",
      "Processing Record 445 | cervo\n",
      "Processing Record 446 | saint-joseph\n",
      "Processing Record 447 | doctor pedro p. pena\n",
      "City not found!\n",
      "Processing Record 448 | ibra\n",
      "Processing Record 449 | stoyba\n",
      "City not found!\n",
      "Processing Record 450 | avera\n",
      "Processing Record 451 | talnakh\n",
      "Processing Record 452 | zhezkazgan\n",
      "Processing Record 453 | moerai\n",
      "Processing Record 454 | sur\n",
      "Processing Record 455 | karkaralinsk\n",
      "City not found!\n",
      "Processing Record 456 | san cristobal\n",
      "Processing Record 457 | kaeo\n",
      "Processing Record 458 | sistranda\n",
      "Processing Record 459 | portland\n",
      "Processing Record 460 | derzhavinsk\n",
      "Processing Record 461 | sinkat\n",
      "City not found!\n",
      "Processing Record 462 | trairi\n",
      "Processing Record 463 | chateaudun\n",
      "Processing Record 464 | thayetmyo\n",
      "Processing Record 465 | esperance\n",
      "Processing Record 466 | freeport\n",
      "Processing Record 467 | port hedland\n",
      "Processing Record 468 | huacho\n",
      "Processing Record 469 | kemijarvi\n",
      "Processing Record 470 | choix\n",
      "Processing Record 471 | baherden\n",
      "Processing Record 472 | longlac\n",
      "City not found!\n",
      "Processing Record 473 | egvekinot\n",
      "Processing Record 474 | kenai\n",
      "Processing Record 475 | jenison\n",
      "Processing Record 476 | rungata\n"
     ]
    },
    {
     "name": "stdout",
     "output_type": "stream",
     "text": [
      "City not found!\n",
      "Processing Record 477 | arroyo\n",
      "Processing Record 478 | sukumo\n",
      "Processing Record 479 | turukhansk\n",
      "Processing Record 480 | shalazhi\n",
      "Processing Record 481 | san quintin\n",
      "Processing Record 482 | kang\n",
      "Processing Record 483 | eura\n",
      "Processing Record 484 | nhulunbuy\n",
      "Processing Record 485 | pueblo\n",
      "Processing Record 486 | mouzakion\n",
      "City not found!\n",
      "Processing Record 487 | quatre cocos\n",
      "Processing Record 488 | port lincoln\n",
      "Processing Record 489 | tateyama\n",
      "Processing Record 490 | ceres\n",
      "Processing Record 491 | finschhafen\n",
      "Processing Record 492 | merauke\n",
      "Processing Record 493 | hetauda\n",
      "Processing Record 494 | mehamn\n",
      "Processing Record 495 | ponta do sol\n",
      "Processing Record 496 | kuna\n",
      "Processing Record 497 | panapakkam\n",
      "City not found!\n",
      "Processing Record 498 | osijek\n",
      "Processing Record 499 | bokspits\n",
      "City not found!\n",
      "Processing Record 500 | constantine\n",
      "Processing Record 501 | chancay\n",
      "Processing Record 502 | kiunga\n",
      "Processing Record 503 | tumannyy\n",
      "City not found!\n",
      "Processing Record 504 | mulege\n",
      "Processing Record 505 | viedma\n",
      "Processing Record 506 | sentyabrskiy\n",
      "City not found!\n",
      "Processing Record 507 | salto\n",
      "Processing Record 508 | torrington\n",
      "Processing Record 509 | flinders\n",
      "Processing Record 510 | pundaguitan\n",
      "Processing Record 511 | katherine\n",
      "Processing Record 512 | kutum\n",
      "Processing Record 513 | lethem\n",
      "Processing Record 514 | orito\n",
      "Processing Record 515 | vaitupu\n",
      "City not found!\n",
      "Processing Record 516 | krasnoselkup\n",
      "Processing Record 517 | whitehorse\n",
      "Processing Record 518 | dingle\n",
      "Processing Record 519 | sabla\n",
      "Processing Record 520 | pisco\n",
      "Processing Record 521 | vallenar\n",
      "Processing Record 522 | karaton\n",
      "Processing Record 523 | anadyr\n",
      "Processing Record 524 | les cayes\n",
      "Processing Record 525 | gemena\n",
      "Processing Record 526 | alihe\n",
      "Processing Record 527 | enzan\n",
      "Processing Record 528 | balimo\n",
      "City not found!\n",
      "Processing Record 529 | galiwinku\n",
      "City not found!\n",
      "Processing Record 530 | stephenville\n",
      "Processing Record 531 | linshui\n",
      "Processing Record 532 | la macarena\n",
      "Processing Record 533 | port moresby\n",
      "Processing Record 534 | seabra\n",
      "Processing Record 535 | mataruska banja\n",
      "Processing Record 536 | timoteo\n",
      "Processing Record 537 | chama\n",
      "Processing Record 538 | oktyabrskoye\n",
      "Processing Record 539 | riberalta\n",
      "Processing Record 540 | mount hagen\n",
      "Processing Record 541 | constitucion\n",
      "Processing Record 542 | willmar\n",
      "Processing Record 543 | ulladulla\n",
      "Processing Record 544 | praia da vitoria\n",
      "Processing Record 545 | ranong\n",
      "Processing Record 546 | madaoua\n",
      "Processing Record 547 | ahome\n",
      "Processing Record 548 | la palma\n",
      "Processing Record 549 | ilfracombe\n",
      "Processing Record 550 | manzhouli\n",
      "Processing Record 551 | cam pha\n",
      "City not found!\n",
      "Processing Record 552 | samusu\n",
      "City not found!\n",
      "Processing Record 553 | kungurtug\n",
      "Processing Record 554 | sofiysk\n",
      "City not found!\n",
      "Processing Record 555 | cheremnoye\n",
      "Processing Record 556 | velikie luki\n",
      "City not found!\n",
      "Processing Record 557 | fairbanks\n",
      "Processing Record 558 | lucea\n",
      "Processing Record 559 | cairns\n",
      "Processing Record 560 | ximei\n",
      "Processing Record 561 | la grande\n",
      "Processing Record 562 | narasannapeta\n",
      "Processing Record 563 | mandalgovi\n",
      "Processing Record 564 | anaconda\n",
      "Processing Record 565 | lolua\n",
      "City not found!\n",
      "Processing Record 566 | kondopoga\n",
      "Processing Record 567 | sitio novo do tocantins\n",
      "Processing Record 568 | linkou\n",
      "Processing Record 569 | can tho\n",
      "Processing Record 570 | kasongo\n",
      "Processing Record 571 | wulanhaote\n",
      "City not found!\n",
      "Processing Record 572 | hailey\n",
      "Processing Record 573 | kapoeta\n",
      "Processing Record 574 | tsihombe\n",
      "City not found!\n",
      "Processing Record 575 | the pas\n",
      "Processing Record 576 | ketchikan\n",
      "Processing Record 577 | stawell\n",
      "Processing Record 578 | wyszkow\n",
      "Processing Record 579 | makakilo city\n",
      "Processing Record 580 | roswell\n",
      "Processing Record 581 | sola\n",
      "Processing Record 582 | reshetylivka\n",
      "Processing Record 583 | novobureyskiy\n",
      "Processing Record 584 | sherlovaya gora\n",
      "Processing Record 585 | malangwa\n",
      "Processing Record 586 | pudozh\n",
      "Processing Record 587 | monrovia\n",
      "Processing Record 588 | dhrol\n",
      "Processing Record 589 | ipixuna\n",
      "Processing Record 590 | upata\n",
      "Processing Record 591 | belyy yar\n",
      "Processing Record 592 | lalmatie\n",
      "Processing Record 593 | oudtshoorn\n",
      "Processing Record 594 | holme\n",
      "Processing Record 595 | narsaq\n",
      "Processing Record 596 | santa maria da vitoria\n",
      "Processing Record 597 | brandon\n",
      "Processing Record 598 | tahta\n",
      "Processing Record 599 | kalianget\n",
      "Processing Record 600 | troyes\n",
      "Processing Record 601 | la ronge\n",
      "Processing Record 602 | nanortalik\n",
      "Processing Record 603 | wheeling\n",
      "Processing Record 604 | kerman\n",
      "Processing Record 605 | ambunti\n",
      "Processing Record 606 | nome\n",
      "Processing Record 607 | veraval\n",
      "Processing Record 608 | karakol\n",
      "Processing Record 609 | ushumun\n",
      "Processing Record 610 | sao joao da barra\n",
      "Processing Record 611 | aljustrel\n"
     ]
    }
   ],
   "source": [
    "url='http://api.openweathermap.org/data/2.5/weather?'\n",
    "ticker=1\n",
    "print('Beginning Data Retrieval')\n",
    "\n",
    "for x in cities:\n",
    "    print(f\"Processing Record {ticker} | {x}\")\n",
    "    query= url + \"appid=\" + weather_api_key + \"&q=\" + x\n",
    "    response=requests.get(query).json()\n",
    "    try:    \n",
    "        lat.append(response['coord']['lat'])\n",
    "        lng.append(response['coord']['lon'])\n",
    "        max_temp.append(response['main']['temp_max'])\n",
    "        humidity.append(response['main']['humidity'])\n",
    "        cloudiness.append(response['clouds']['all'])\n",
    "        windspeed.append(response['wind']['speed'])\n",
    "        country.append(response['sys']['country']) \n",
    "        date.append(response['dt'])\n",
    "        ticker+=1\n",
    "    except:\n",
    "        print(\"City not found!\")\n",
    "        lat.append(None)\n",
    "        lng.append(None)\n",
    "        max_temp.append(None)\n",
    "        humidity.append(None)\n",
    "        cloudiness.append(None)\n",
    "        windspeed.append(None)\n",
    "        country.append(None) \n",
    "        date.append(None)\n",
    "        ticker+=1\n",
    "        pass"
   ]
  },
  {
   "cell_type": "markdown",
   "metadata": {},
   "source": [
    "### Convert Raw Data to DataFrame\n",
    "* Export the city data into a .csv.\n",
    "* Display the DataFrame"
   ]
  },
  {
   "cell_type": "code",
   "execution_count": 175,
   "metadata": {},
   "outputs": [],
   "source": [
    "cities_df=pd.DataFrame({\n",
    "                        'Cities':cities,\n",
    "                        'Lat':lat,\n",
    "                        'Lng':lng,\n",
    "                        'Max Temp':max_temp,\n",
    "                        'Humidity':humidity,\n",
    "                        'Cloudiness':cloudiness,\n",
    "                        'Windspeed':windspeed,\n",
    "                        'Country':country,\n",
    "                        'Date':date\n",
    "                        })\n",
    "cities_df=cities_df.dropna()\n",
    "cities_df.to_csv('../Output_Data/cities_df.csv')"
   ]
  },
  {
   "cell_type": "code",
   "execution_count": null,
   "metadata": {},
   "outputs": [],
   "source": []
  },
  {
   "cell_type": "code",
   "execution_count": 181,
   "metadata": {},
   "outputs": [
    {
     "data": {
      "text/html": [
       "<div>\n",
       "<style scoped>\n",
       "    .dataframe tbody tr th:only-of-type {\n",
       "        vertical-align: middle;\n",
       "    }\n",
       "\n",
       "    .dataframe tbody tr th {\n",
       "        vertical-align: top;\n",
       "    }\n",
       "\n",
       "    .dataframe thead th {\n",
       "        text-align: right;\n",
       "    }\n",
       "</style>\n",
       "<table border=\"1\" class=\"dataframe\">\n",
       "  <thead>\n",
       "    <tr style=\"text-align: right;\">\n",
       "      <th></th>\n",
       "      <th>Cities</th>\n",
       "      <th>Lat</th>\n",
       "      <th>Lng</th>\n",
       "      <th>Max Temp</th>\n",
       "      <th>Humidity</th>\n",
       "      <th>Cloudiness</th>\n",
       "      <th>Windspeed</th>\n",
       "      <th>Country</th>\n",
       "      <th>Date</th>\n",
       "    </tr>\n",
       "  </thead>\n",
       "  <tbody>\n",
       "  </tbody>\n",
       "</table>\n",
       "</div>"
      ],
      "text/plain": [
       "Empty DataFrame\n",
       "Columns: [Cities, Lat, Lng, Max Temp, Humidity, Cloudiness, Windspeed, Country, Date]\n",
       "Index: []"
      ]
     },
     "execution_count": 181,
     "metadata": {},
     "output_type": "execute_result"
    }
   ],
   "source": []
  },
  {
   "cell_type": "markdown",
   "metadata": {},
   "source": [
    "## Inspect the data and remove the cities where the humidity > 100%.\n",
    "----\n",
    "Skip this step if there are no cities that have humidity > 100%. "
   ]
  },
  {
   "cell_type": "code",
   "execution_count": null,
   "metadata": {},
   "outputs": [],
   "source": [
    "#  Get the indices of cities that have humidity over 100%.\n",
    "#cities_df.loc[cities_df['Humidity']>100]\n",
    "print('0 cities found with humidity > 100')"
   ]
  },
  {
   "cell_type": "code",
   "execution_count": 15,
   "metadata": {},
   "outputs": [],
   "source": [
    "# Make a new DataFrame equal to the city data to drop all humidity outliers by index.\n",
    "# Passing \"inplace=False\" will make a copy of the city_data DataFrame, which we call \"clean_city_data\".\n"
   ]
  },
  {
   "cell_type": "code",
   "execution_count": null,
   "metadata": {},
   "outputs": [],
   "source": [
    "\n"
   ]
  },
  {
   "cell_type": "markdown",
   "metadata": {},
   "source": [
    "## Plotting the Data\n",
    "* Use proper labeling of the plots using plot titles (including date of analysis) and axes labels.\n",
    "* Save the plotted figures as .pngs."
   ]
  },
  {
   "cell_type": "markdown",
   "metadata": {},
   "source": [
    "## Latitude vs. Temperature Plot"
   ]
  },
  {
   "cell_type": "code",
   "execution_count": 187,
   "metadata": {
    "scrolled": true
   },
   "outputs": [
    {
     "data": {
      "image/png": "[encoded data removed]",
      "text/plain": [
       "<Figure size 432x288 with 1 Axes>"
      ]
     },
     "metadata": {
      "needs_background": "light"
     },
     "output_type": "display_data"
    }
   ],
   "source": [
    "x=cities_df['Lat']\n",
    "y=cities_df['Max Temp']\n",
    "plt.scatter(x,y,color='blue',edgecolors='black')\n",
    "plt.xlabel('Latitude')\n",
    "plt.ylabel('Max Temperature (F)')\n",
    "plt.title('City Latitude vs. Max Temperature')\n",
    "plt.grid()\n",
    "plt.show()"
   ]
  },
  {
   "cell_type": "markdown",
   "metadata": {},
   "source": [
    "## Latitude vs. Humidity Plot"
   ]
  },
  {
   "cell_type": "code",
   "execution_count": 188,
   "metadata": {},
   "outputs": [
    {
     "data": {
      "image/png": "[encoded data removed]",
      "text/plain": [
       "<Figure size 432x288 with 1 Axes>"
      ]
     },
     "metadata": {
      "needs_background": "light"
     },
     "output_type": "display_data"
    }
   ],
   "source": [
    "x=cities_df['Lat']\n",
    "y=cities_df['Humidity']\n",
    "plt.scatter(x,y,color='blue',edgecolors='black')\n",
    "plt.xlabel('Latitude')\n",
    "plt.ylabel('Humidity (%)')\n",
    "plt.title('City Latitude vs. Humidity')\n",
    "plt.grid()\n",
    "plt.show()"
   ]
  },
  {
   "cell_type": "markdown",
   "metadata": {},
   "source": [
    "## Latitude vs. Cloudiness Plot"
   ]
  },
  {
   "cell_type": "code",
   "execution_count": 189,
   "metadata": {},
   "outputs": [
    {
     "data": {
      "image/png": "[encoded data removed]",
      "text/plain": [
       "<Figure size 432x288 with 1 Axes>"
      ]
     },
     "metadata": {
      "needs_background": "light"
     },
     "output_type": "display_data"
    }
   ],
   "source": [
    "x=cities_df['Lat']\n",
    "y=cities_df['Cloudiness']\n",
    "plt.scatter(x,y,color='blue',edgecolors='black')\n",
    "plt.xlabel('Latitude')\n",
    "plt.ylabel('Cloudiness(%)')\n",
    "plt.title('City Latitude vs. Cloudiness')\n",
    "plt.grid()\n",
    "plt.show()"
   ]
  },
  {
   "cell_type": "markdown",
   "metadata": {},
   "source": [
    "## Latitude vs. Wind Speed Plot"
   ]
  },
  {
   "cell_type": "code",
   "execution_count": 190,
   "metadata": {},
   "outputs": [
    {
     "data": {
      "image/png": "[encoded data removed]",
      "text/plain": [
       "<Figure size 432x288 with 1 Axes>"
      ]
     },
     "metadata": {
      "needs_background": "light"
     },
     "output_type": "display_data"
    }
   ],
   "source": [
    "x=cities_df['Lat']\n",
    "y=cities_df['Windspeed']\n",
    "plt.scatter(x,y,color='blue',edgecolors='black')\n",
    "plt.xlabel('Latitude')\n",
    "plt.ylabel('Wind Speed(mph)')\n",
    "plt.title('City Latitude vs. Wind Speed')\n",
    "plt.grid()\n",
    "plt.show()"
   ]
  },
  {
   "cell_type": "markdown",
   "metadata": {},
   "source": [
    "## Linear Regression"
   ]
  },
  {
   "cell_type": "code",
   "execution_count": null,
   "metadata": {},
   "outputs": [],
   "source": [
    "(slope, intercept, rvalue, pvalue, stderr) = st.linregress(x, y)\n",
    "regress_vals = x * slope + intercept\n",
    "equation=\"y = \" + str(round(slope,2)) + \"x + \" + str(round(intercept,2))\n"
   ]
  },
  {
   "cell_type": "markdown",
   "metadata": {},
   "source": [
    "####  Northern Hemisphere - Max Temp vs. Latitude Linear Regression"
   ]
  },
  {
   "cell_type": "code",
   "execution_count": 207,
   "metadata": {},
   "outputs": [
    {
     "name": "stdout",
     "output_type": "stream",
     "text": [
      "The r-value is: -0.8675230083190334\n"
     ]
    },
    {
     "data": {
      "image/png": "[encoded data removed]",
      "text/plain": [
       "<Figure size 432x288 with 1 Axes>"
      ]
     },
     "metadata": {
      "needs_background": "light"
     },
     "output_type": "display_data"
    }
   ],
   "source": [
    "north_hem=cities_df.loc[cities_df['Lat']>0]\n",
    "x=north_hem['Lat']\n",
    "y=north_hem['Max Temp']\n",
    "(slope, intercept, rvalue, pvalue, stderr) = linregress(x, y)\n",
    "regress_vals = x * slope + intercept\n",
    "equation=\"y = \" + str(round(slope,2)) + \"x + \" + str(round(intercept,2))\n",
    "print(f\"The r-value is: {rvalue}\")\n",
    "plt.scatter(x,y,color='blue',edgecolors='black')\n",
    "plt.xlabel('Latitude')\n",
    "plt.ylabel('Max Temp')\n",
    "plt.title('Latitude vs. Max Temperature(Northern Hemisphere)')\n",
    "plt.annotate(equation,(0,260),fontsize=15,color=\"red\")\n",
    "plt.plot(x,regress_vals,'red')\n",
    "plt.show()\n"
   ]
  },
  {
   "cell_type": "markdown",
   "metadata": {},
   "source": [
    "####  Southern Hemisphere - Max Temp vs. Latitude Linear Regression"
   ]
  },
  {
   "cell_type": "code",
   "execution_count": 209,
   "metadata": {},
   "outputs": [
    {
     "name": "stdout",
     "output_type": "stream",
     "text": [
      "The r-value is: 0.7144529753597846\n"
     ]
    },
    {
     "data": {
      "image/png": "[encoded data removed]",
      "text/plain": [
       "<Figure size 432x288 with 1 Axes>"
      ]
     },
     "metadata": {
      "needs_background": "light"
     },
     "output_type": "display_data"
    }
   ],
   "source": [
    "south_hem=cities_df.loc[cities_df['Lat']<0]\n",
    "x=south_hem['Lat']\n",
    "y=south_hem['Max Temp']\n",
    "(slope, intercept, rvalue, pvalue, stderr) = linregress(x, y)\n",
    "regress_vals = x * slope + intercept\n",
    "equation=\"y = \" + str(round(slope,2)) + \"x + \" + str(round(intercept,2))\n",
    "print(f\"The r-value is: {rvalue}\")\n",
    "plt.scatter(x,y,color='blue',edgecolors='black')\n",
    "plt.xlabel('Latitude')\n",
    "plt.ylabel('Max Temp')\n",
    "plt.title('Latitude vs. Max Temperature(Southern Hemisphere)')\n",
    "plt.annotate(equation,(-30,280),fontsize=15,color=\"red\")\n",
    "plt.plot(x,regress_vals,'red')\n",
    "plt.show()"
   ]
  },
  {
   "cell_type": "markdown",
   "metadata": {},
   "source": [
    "####  Northern Hemisphere - Humidity (%) vs. Latitude Linear Regression"
   ]
  },
  {
   "cell_type": "code",
   "execution_count": 211,
   "metadata": {},
   "outputs": [
    {
     "name": "stdout",
     "output_type": "stream",
     "text": [
      "The r-value is: 0.3413480389649083\n"
     ]
    },
    {
     "data": {
      "image/png": "[encoded data removed]",
      "text/plain": [
       "<Figure size 432x288 with 1 Axes>"
      ]
     },
     "metadata": {
      "needs_background": "light"
     },
     "output_type": "display_data"
    }
   ],
   "source": [
    "north_hem=cities_df.loc[cities_df['Lat']>0]\n",
    "x=north_hem['Lat']\n",
    "y=north_hem['Humidity']\n",
    "(slope, intercept, rvalue, pvalue, stderr) = linregress(x, y)\n",
    "regress_vals = x * slope + intercept\n",
    "equation=\"y = \" + str(round(slope,2)) + \"x + \" + str(round(intercept,2))\n",
    "print(f\"The r-value is: {rvalue}\")\n",
    "plt.scatter(x,y,color='blue',edgecolors='black')\n",
    "plt.xlabel('Latitude')\n",
    "plt.ylabel('Humidity(%)')\n",
    "plt.title('Latitude vs. Humidity(Northern Hemisphere)')\n",
    "plt.annotate(equation,(0,0),fontsize=15,color=\"red\")\n",
    "plt.plot(x,regress_vals,'red')\n",
    "plt.show()\n"
   ]
  },
  {
   "cell_type": "markdown",
   "metadata": {},
   "source": [
    "####  Southern Hemisphere - Humidity (%) vs. Latitude Linear Regression"
   ]
  },
  {
   "cell_type": "code",
   "execution_count": 213,
   "metadata": {},
   "outputs": [
    {
     "name": "stdout",
     "output_type": "stream",
     "text": [
      "The r-value is: -0.025264930132729794\n"
     ]
    },
    {
     "data": {
      "image/png": "[encoded data removed]",
      "text/plain": [
       "<Figure size 432x288 with 1 Axes>"
      ]
     },
     "metadata": {
      "needs_background": "light"
     },
     "output_type": "display_data"
    }
   ],
   "source": [
    "south_hem=cities_df.loc[cities_df['Lat']<0]\n",
    "x=south_hem['Lat']\n",
    "y=south_hem['Humidity']\n",
    "(slope, intercept, rvalue, pvalue, stderr) = linregress(x, y)\n",
    "regress_vals = x * slope + intercept\n",
    "equation=\"y = \" + str(round(slope,2)) + \"x + \" + str(round(intercept,2))\n",
    "print(f\"The r-value is: {rvalue}\")\n",
    "plt.scatter(x,y,color='blue',edgecolors='black')\n",
    "plt.xlabel('Latitude')\n",
    "plt.ylabel('Humidity')\n",
    "plt.title('Latitude vs. Humidity(Southern Hemisphere)')\n",
    "plt.annotate(equation,(-55,35),fontsize=15,color=\"red\")\n",
    "plt.plot(x,regress_vals,'red')\n",
    "plt.show()"
   ]
  },
  {
   "cell_type": "markdown",
   "metadata": {},
   "source": [
    "####  Northern Hemisphere - Cloudiness (%) vs. Latitude Linear Regression"
   ]
  },
  {
   "cell_type": "code",
   "execution_count": 215,
   "metadata": {},
   "outputs": [
    {
     "name": "stdout",
     "output_type": "stream",
     "text": [
      "The r-value is: 0.19289066315117617\n"
     ]
    },
    {
     "data": {
      "image/png": "[encoded data removed]",
      "text/plain": [
       "<Figure size 432x288 with 1 Axes>"
      ]
     },
     "metadata": {
      "needs_background": "light"
     },
     "output_type": "display_data"
    }
   ],
   "source": [
    "north_hem=cities_df.loc[cities_df['Lat']>0]\n",
    "x=north_hem['Lat']\n",
    "y=north_hem['Cloudiness']\n",
    "(slope, intercept, rvalue, pvalue, stderr) = linregress(x, y)\n",
    "regress_vals = x * slope + intercept\n",
    "equation=\"y = \" + str(round(slope,2)) + \"x + \" + str(round(intercept,2))\n",
    "print(f\"The r-value is: {rvalue}\")\n",
    "plt.scatter(x,y,color='blue',edgecolors='black')\n",
    "plt.xlabel('Latitude')\n",
    "plt.ylabel('Cloudiness(%)')\n",
    "plt.title('Latitude vs. Cloudiness(Northern Hemisphere)')\n",
    "plt.annotate(equation,(0,50),fontsize=15,color=\"red\")\n",
    "plt.plot(x,regress_vals,'red')\n",
    "plt.show()\n"
   ]
  },
  {
   "cell_type": "markdown",
   "metadata": {},
   "source": [
    "####  Southern Hemisphere - Cloudiness (%) vs. Latitude Linear Regression"
   ]
  },
  {
   "cell_type": "code",
   "execution_count": null,
   "metadata": {},
   "outputs": [],
   "source": []
  },
  {
   "cell_type": "markdown",
   "metadata": {},
   "source": [
    "####  Northern Hemisphere - Wind Speed (mph) vs. Latitude Linear Regression"
   ]
  },
  {
   "cell_type": "code",
   "execution_count": null,
   "metadata": {},
   "outputs": [],
   "source": []
  },
  {
   "cell_type": "markdown",
   "metadata": {},
   "source": [
    "####  Southern Hemisphere - Wind Speed (mph) vs. Latitude Linear Regression"
   ]
  },
  {
   "cell_type": "code",
   "execution_count": null,
   "metadata": {},
   "outputs": [],
   "source": []
  },
  {
   "cell_type": "code",
   "execution_count": null,
   "metadata": {},
   "outputs": [],
   "source": []
  }
 ],
 "metadata": {
  "anaconda-cloud": {},
  "kernel_info": {
   "name": "python3"
  },
  "kernelspec": {
   "display_name": "Python [conda env:PythonData] *",
   "language": "python",
   "name": "conda-env-PythonData-py"
  },
  "language_info": {
   "codemirror_mode": {
    "name": "ipython",
    "version": 3
   },
   "file_extension": ".py",
   "mimetype": "text/x-python",
   "name": "python",
   "nbconvert_exporter": "python",
   "pygments_lexer": "ipython3",
   "version": "3.8.5"
  },
  "latex_envs": {
   "LaTeX_envs_menu_present": true,
   "autoclose": false,
   "autocomplete": true,
   "bibliofile": "biblio.bib",
   "cite_by": "apalike",
   "current_citInitial": 1,
   "eqLabelWithNumbers": true,
   "eqNumInitial": 1,
   "hotkeys": {
    "equation": "Ctrl-E",
    "itemize": "Ctrl-I"
   },
   "labels_anchors": false,
   "latex_user_defs": false,
   "report_style_numbering": false,
   "user_envs_cfg": false
  },
  "nteract": {
   "version": "0.12.3"
  }
 },
 "nbformat": 4,
 "nbformat_minor": 2
}
